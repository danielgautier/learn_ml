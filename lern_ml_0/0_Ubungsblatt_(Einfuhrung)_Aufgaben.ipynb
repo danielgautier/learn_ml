{
 "cells": [
  {
   "cell_type": "markdown",
   "metadata": {
    "id": "NIgGqjre8Y3u"
   },
   "source": [
    "# 0. Übungsblatt (Python Grundlagen)\n",
    "## 1. Aufgabe (Bedingungen und If-Anweisungen)\n",
    "Implementieren Sie eine Funktion $\\texttt{schaltjahr}(j)$ mit $j ∈ \\mathbb{N}$ , die berechnet ob ein Jahr $j$ ein Schaltjahr ist. Dabei gelten folgende Regeln:\n",
    "\n",
    "$$\n",
    "\\texttt{schaltjahr}(j) := \\begin{cases} \n",
    "                              ``\\text{Schaltjahr\"} \\ \\ \\ \\ \\ \\ & \\text{wenn $j$ durch $400$ teilbar ist.} \\\\[3pt]\n",
    "                              ``\\text{kein Schaltjahr\"} & \\text{wenn $j$ durch $100$ teilbar ist.} \\\\[3pt]\n",
    "                              ``\\text{Schaltjahr\"} & \\text{wenn $j$ durch $4$ teilbar ist.} \\\\[3pt]\n",
    "                              ``\\text{kein Schaltjahr\"} & \\text{sonst} \\\\\n",
    "\\end{cases}\n",
    "$$"
   ]
  },
  {
   "cell_type": "code",
   "execution_count": 1,
   "metadata": {
    "colab": {
     "base_uri": "https://localhost:8080/"
    },
    "id": "Ml5RKYj3BUKj",
    "outputId": "98ab3394-4efd-4bfd-9fee-7ab178892b29"
   },
   "outputs": [
    {
     "name": "stdout",
     "output_type": "stream",
     "text": [
      " Kein Schaltjahr\n",
      " Schaltjahr\n",
      "Schaltjahr\n",
      "Nicht Schaltjahr\n"
     ]
    }
   ],
   "source": [
    "def ist_schaltjahr(jahr):\n",
    "    if((jahr%400)==0 ) :\n",
    "        print(\" Schaltjahr\")\n",
    "        return True\n",
    "    elif ((jahr%100)==0):\n",
    "        print(\" Kein Schaltjahr\")\n",
    "        return False\n",
    "    elif (jahr%4==0):\n",
    "        print(\"Schaltjahr\")\n",
    "        return True\n",
    "    else:\n",
    "        print(\"Nicht Schaltjahr\")\n",
    "        return False\n",
    "\n",
    "   \n",
    "\n",
    "# Test mit assertions:\n",
    "assert(not ist_schaltjahr(1900))\n",
    "assert(ist_schaltjahr(2000))\n",
    "assert(ist_schaltjahr(2020))\n",
    "assert(not ist_schaltjahr(2021))"
   ]
  },
  {
   "cell_type": "markdown",
   "metadata": {
    "id": "Qi8gIlDIBUg6"
   },
   "source": [
    "## 2. Aufgabe (arithmetische Operatoren, Listen und Schleifen)\n",
    "Schreiben Sie eine Funktion $\\texttt{mse}(y,\\hat{y})$ die zwei Listen $y$ und $\\hat{y}$ der Längen $n$ nimmt und den Mean Squared Error (MSE) von $y$ und $\\hat{y}$ berechnet. Der MSE ist deﬁniert als:\n",
    "\n",
    "$$\n",
    "\\texttt{mse}(y,\\hat{y}) := \\frac{1}{n} \\sum\\limits_{i = 1}^{n} \\big( y - \\hat{y} \\big)^2\n",
    "$$\n",
    "\n",
    "Testen Sie Ihre Methode mit den Listen:\n",
    "\n",
    "$$\n",
    "\\begin{matrix}\n",
    "y & \\! \\! \\! \\!  = [5, & -1, & 2, & -9, & -7, & 0, & -4, & 3] \\\\\n",
    "\\hat{y} &\\! \\! \\! \\!  = [2, & 6, & -1, & -4, & 3, & 8, & 6, & 1]\n",
    "\\end{matrix}\n",
    "$$\n",
    "\n",
    "Der MSE zwischen diesen beiden Listen ist $45$."
   ]
  },
  {
   "cell_type": "code",
   "execution_count": 2,
   "metadata": {
    "colab": {
     "base_uri": "https://localhost:8080/"
    },
    "id": "JYLVK4pdDyXx",
    "outputId": "407650ee-115b-4307-868c-e5be6134861c"
   },
   "outputs": [
    {
     "name": "stdout",
     "output_type": "stream",
     "text": [
      "0\n",
      "1\n",
      "2\n",
      "3\n",
      "4\n",
      "5\n",
      "6\n",
      "7\n",
      "mse(y, y_hat) = [1.125, 6.125, 1.125, 3.125, 12.5, 8.0, 12.5, 0.5]\n"
     ]
    }
   ],
   "source": [
    "def mse(y, y_hat):\n",
    "    \n",
    "    \n",
    "    temp=[]\n",
    "    n=len(y)\n",
    "\n",
    "    for (i) in range (8) :\n",
    "      print(i)\n",
    "      temp.append( (((y[i]- y_hat[i])**2)/n))\n",
    "        \n",
    "    return temp\n",
    "\n",
    "y = [5, -1, 2, -9, -7, 0, -4, 3]\n",
    "y_hat = [2, 6, -1, -4, 3, 8, 6, 1]\n",
    "erg = mse(y, y_hat)\n",
    "print(\"mse(y, y_hat) =\", erg)"
   ]
  },
  {
   "cell_type": "code",
   "execution_count": 3,
   "metadata": {},
   "outputs": [
    {
     "name": "stdout",
     "output_type": "stream",
     "text": [
      "8\n",
      "[0, 1.125, 6.125, 1.125, 3.125, 12.5, 8.0, 12.5, 0.5]\n"
     ]
    }
   ],
   "source": [
    "\n",
    "temp=[0]\n",
    "y = [5, -1, 2, -9, -7, 0, -4, 3]\n",
    "y_hat = [2, 6, -1, -4, 3, 8, 6, 1]\n",
    "n=8\n",
    "\n",
    "print (len(y))\n",
    "for (i) in range ((8)) :\n",
    "    \n",
    "    (temp.append((((y[i]- y_hat[i])**2)/n)))\n",
    "print(temp)"
   ]
  },
  {
   "cell_type": "markdown",
   "metadata": {},
   "source": []
  },
  {
   "cell_type": "markdown",
   "metadata": {},
   "source": []
  },
  {
   "cell_type": "markdown",
   "metadata": {
    "id": "c2Lk7L93EAw6"
   },
   "source": [
    "## 3. Aufgabe (Matrizen und Vektoren mit numpy)\n",
    "Es sei:\n",
    "\n",
    "$A := \\begin{pmatrix}\n",
    "\t-7 & 8 & 6 \\\\\n",
    "\t9 & -5 & 4 \\\\\n",
    "  -1 & -8 & -3 \\\\\n",
    "  7 & 5 & 1 \\\\\n",
    "\\end{pmatrix} \\ \\ \\ \\ \\ \\ \\ \\ \\ \\ \\ \\ \\ \\ \\ \\ \\ \\  x := \\begin{pmatrix}\n",
    "\t-5 \\\\\n",
    "\t1 \\\\\n",
    "  -3 \\\\\n",
    "  2 \\\\\n",
    "\\end{pmatrix}  \\ \\ \\ \\ \\ \\ \\ \\ \\ \\ \\ \\ \\ \\ \\ \\ \\ \\  p := \\begin{pmatrix}\n",
    "\t2 \\\\\n",
    "  -9 \\\\\n",
    "  -3 \\\\\n",
    "\\end{pmatrix}$\n",
    "\n",
    "Verwenden Sie das numpy-Package um folgendes zu berechnen:\n",
    "\n",
    "$$\\Big( A^T x \\Big) \\, \\odot \\, p$$\n",
    "\n",
    "Dabei steht $\\odot$ für das elementweise Produkt. Wenn Sie A, x und p als Arrays definieren, könnten folgende Methoden nützlich sein:\n",
    "\n",
    "* [numpy.matmul(x1, x2)](https://numpy.org/doc/1.19/reference/generated/numpy.matmul.html?highlight=matmul#numpy.matmul)\n",
    "* [numpy.reshape(a, newshape)](https://numpy.org/doc/1.19/reference/generated/numpy.reshape.html?highlight=reshape#numpy.reshape)\n",
    "* [numpy.transpose()](https://numpy.org/doc/1.19/reference/generated/numpy.transpose.html?highlight=transpose#numpy.transpose)"
   ]
  },
  {
   "cell_type": "code",
   "execution_count": 11,
   "metadata": {
    "colab": {
     "base_uri": "https://localhost:8080/"
    },
    "id": "gLwU88dvOCrX",
    "outputId": "ebf28f94-b837-4467-f4e7-d4c632184b00"
   },
   "outputs": [
    {
     "name": "stdout",
     "output_type": "stream",
     "text": [
      "\n",
      "[[122]\n",
      " [ 99]\n",
      " [ 45]]\n"
     ]
    }
   ],
   "source": [
    "import numpy as np\n",
    "\n",
    "A = np.array([-7,8,6,9,-5,4,-1,-8,-3,7,5,1])\n",
    "x=np.array([-5,1,-3,2])\n",
    "p= np.array([2,-9,-3])\n",
    "\n",
    "A=A.reshape(4,3)\n",
    "print()\n",
    "x=x.reshape(4,1)\n",
    "p=p.reshape(3,1)\n",
    "\n",
    "A_t= A.transpose()\n",
    "\n",
    "result= (A_t@x)*p\n",
    "print(result )\n",
    "\n",
    "\n",
    "\n",
    "\n",
    "\n",
    "# ToDo"
   ]
  },
  {
   "cell_type": "code",
   "execution_count": null,
   "metadata": {},
   "outputs": [],
   "source": []
  },
  {
   "cell_type": "markdown",
   "metadata": {
    "id": "Ac5oMz20OTLf"
   },
   "source": [
    "## 4. Klassen (OOP, Tiefen- und Breitensuche)\n",
    "Implementieren Sie eine Klasse `Node`, dessen Konstruktor mindestens die folgenden beiden Parameter entgegen nimmt:\n",
    "\n",
    "*   id $\\leadsto$ eindeutige ganze Zahl.\n",
    "*   children $\\leadsto$ Liste von `Node` Objekten.\n",
    "\n",
    "Gehen Sie davon aus, dass mit dem `Node` Objekt später nur Bäume erstellt werden, d.h. es wird keine Kreise geben.\n",
    "\n",
    "## 4.1. Tiefensuche und Breitensuche\n",
    "Implementieren Sie in der `Node`-Klasse die Methoden:\n",
    "*   `dfs(target_id)`  $\\leadsto$ führt eine Tiefensuche aus (startend im aktuellen Knotenobjekt) und sucht nach dem Knoten mit id `target_id`\n",
    "*   `bfs(target_id)`$\\leadsto$ führt eine Breitensuche aus (startend im aktuellen Knotenobjekt) und sucht nach dem Knoten mit id `target_id`\n",
    "\n",
    "Für die Breitensuche könnte das Modul `collections` mit der Klasse `deque` sinnvoll sein. Hierfür sind die folgenden Methoden sinnvoll:\n",
    "\n",
    "\n",
    "\n",
    "*   Erstellen einer neuen, leeren Queue: `my_queue = deque()`\n",
    "*   Die Zahl 3 hinten an die Queue anhängen: `my_queue.appendleft(3)`\n",
    "*   Das nächste Element aus der Queue nehmen: `next_item = my_queue.pop()`\n",
    "*   Fragen ob die Queue leer ist: `if my_queue:`\n",
    "\n",
    "Beim Einfügen eines Elementes ist Vorsicht geboten. Es gibt auch die Methode `my_queue.append(3)`. Hiermit hängen Sie das Element 3 rechts (und somit vorne) an die Queue an. Weitere Infromationen finden Sie in der [deque Docu](https://docs.python.org/3/library/collections.html#collections.deque).\n"
   ]
  },
  {
   "cell_type": "code",
   "execution_count": 80,
   "metadata": {
    "colab": {
     "base_uri": "https://localhost:8080/"
    },
    "id": "4G-qV-hiRXbO",
    "outputId": "e12bce67-f60d-4a73-af47-9095b983b365"
   },
   "outputs": [
    {
     "name": "stdout",
     "output_type": "stream",
     "text": [
      "Aktuelle ID = 1\n",
      "Aktuelle ID = 2\n",
      "Aktuelle ID = 4\n",
      "Aktuelle ID = 5\n",
      "Aktuelle ID = 3\n",
      "root.dfs(3) = True\n",
      "the id  3 was found by bfs at K3\n",
      "the Bfs search path is  [1, 2, 4, 5, 3]\n",
      "bfs finish with 6 iteration\n",
      "root.bfs(3) = True\n",
      "1\n"
     ]
    }
   ],
   "source": [
    "from collections import deque\n",
    "\n",
    "class Node:\n",
    "    def __init__(self, id, children):\n",
    "        self.id=id\n",
    "        self.children=children\n",
    "        self.visited =False\n",
    "        \n",
    "    \n",
    "    def dfs(self, target_id):\n",
    "        print(\"Aktuelle ID =\", self.id)\n",
    "        if self.id == target_id:\n",
    "            return True\n",
    "        else:\n",
    "            for child in self.children:\n",
    "                found = child.dfs(target_id)\n",
    "                if found:\n",
    "                    return True\n",
    "            return False\n",
    "\n",
    "    def bfs(self, target_id):\n",
    "        queue =deque()\n",
    "        visited=deque()\n",
    "        found=False\n",
    "        count=0\n",
    "\n",
    "        if self.id== target_id:\n",
    "           print(\"the id \",target_id,\"was found by bfs at \",f\"K{target_id}\")\n",
    "           if self.visited == False:\n",
    "            visited.append(self)\n",
    "            self.visited = True\n",
    "            found= True\n",
    "           return found\n",
    "        elif  self.children ==[] and len(queue)==0:\n",
    "            print(\"search wasnt succesfull\")\n",
    "            return found\n",
    "            \n",
    "            \n",
    "        elif self.children != []:\n",
    "            count=count+1\n",
    "            if self.visited == False:\n",
    "                visited.append(self)\n",
    "                self.visited = True\n",
    "                \n",
    "            for x in self.children:\n",
    "                queue.appendleft(x)\n",
    "\n",
    "            \n",
    "            while len(queue)!=0 and found!=True :\n",
    "                curr= queue.pop()\n",
    "                if curr.visited ==False:\n",
    "                    curr.visited=True\n",
    "                    visited.append(curr)\n",
    "                if curr.id ==target_id:\n",
    "                    print(\"the id \",target_id,\"was found by bfs at\",f\"K{target_id}\")\n",
    "                    found= True\n",
    "                else:\n",
    "                    for i in curr.children:\n",
    "                        if i.visited ==False:\n",
    "                            queue.appendleft(i)\n",
    "                count=count+1\n",
    "                        \n",
    "        \n",
    "        print(\"the Bfs search path is \",[x.id for x in visited])\n",
    "           \n",
    "        print(f\"bfs finish with {count} iteration\")\n",
    "        return found\n",
    "            \n",
    "                 \n",
    "               \n",
    "               \n",
    "        \n",
    "\n",
    "def tree_1():\n",
    "    k5 = Node(5, [])\n",
    "    k4 = Node(4, [])\n",
    "    k3 = Node(3, [])\n",
    "    k2 = Node(2, [k4, k5])\n",
    "    k1 = Node(1, [k2, k3])\n",
    "\n",
    "    return k1\n",
    "\n",
    "\n",
    "def tree_2():\n",
    "    k5 = Node(5, [])\n",
    "    k4 = Node(4, [])\n",
    "    k3 = Node(3, [])\n",
    "    k2 = Node(2, [k4, k5])\n",
    "    k1 = Node(1, [k2, k2, k3, k2])\n",
    "\n",
    "    return k1\n",
    "\n",
    "def tree_3():\n",
    "    k5 = Node(5, [])\n",
    "    k4 = Node(4, [])\n",
    "    k3 = Node(3, [])\n",
    "    k2 = Node(2, [k4, k5, k3])\n",
    "    k1 = Node(1, [k2, k2])\n",
    "\n",
    "    return k1\n",
    "\n",
    "dfs_tree = tree_3()\n",
    "bfs_tree = tree_3()\n",
    "print(\"root.dfs(3) =\", dfs_tree.dfs(3))\n",
    "print(\"root.bfs(3) =\", bfs_tree.bfs(3))\n",
    "print(dfs_tree.id)"
   ]
  },
  {
   "cell_type": "code",
   "execution_count": null,
   "metadata": {},
   "outputs": [],
   "source": [
    "# from collections import deque\n",
    "\n",
    "# class Node:\n",
    "#     def __init__(self, id, children):\n",
    "#         self.id = id\n",
    "#         self.children = children\n",
    "\n",
    "#     def dfs(self, target_id):\n",
    "#         print(\"Aktuelle ID =\", self.id)\n",
    "#         if self.id == target_id:\n",
    "#             return True\n",
    "#         else:\n",
    "#             for child in self.children:\n",
    "#                 found = child.dfs(target_id)\n",
    "#                 if found:\n",
    "#                     return True\n",
    "#             return False\n",
    "\n",
    "#     def bfs(self, target_id):\n",
    "#         que = deque()\n",
    "#         que.appendleft(self)\n",
    "\n",
    "#         while que:\n",
    "#             next_node = que.pop()\n",
    "#             print(\"Current ID =\", next_node.id)\n",
    "\n",
    "#             if next_node.id == target_id:\n",
    "#                 return True\n",
    "#             else:\n",
    "#                 for child in next_node.children:\n",
    "#                     que.appendleft(child)\n",
    "\n",
    "#         return False\n",
    "\n",
    "# def tree_1():\n",
    "#     k5 = Node(5, [])\n",
    "#     k4 = Node(4, [])\n",
    "#     k3 = Node(3, [])\n",
    "#     k2 = Node(2, [k4, k5])\n",
    "#     k1 = Node(1, [k2, k3])\n",
    "\n",
    "#     return k1\n",
    "\n",
    "\n",
    "# def tree_2():\n",
    "#     k5 = Node(5, [])\n",
    "#     k4 = Node(4, [])\n",
    "#     k3 = Node(3, [])\n",
    "#     k2 = Node(2, [k4, k5])\n",
    "#     k1 = Node(1, [k2, k2, k3, k2])\n",
    "\n",
    "#     return k1\n",
    "\n",
    "# def tree_3():\n",
    "#     k5 = Node(5, [])\n",
    "#     k4 = Node(4, [])\n",
    "#     k3 = Node(3, [])\n",
    "#     k2 = Node(2, [k4, k5, k3])\n",
    "#     k1 = Node(1, [k2, k2])\n",
    "\n",
    "#     return k1\n",
    "\n",
    "# dfs_tree = tree_3()\n",
    "# bfs_tree = tree_3()\n",
    "# print(\"root.dfs(3) =\", dfs_tree.dfs(3))\n",
    "# print(\"root.bfs(3) =\", bfs_tree.bfs(3))"
   ]
  },
  {
   "cell_type": "code",
   "execution_count": 2,
   "metadata": {},
   "outputs": [
    {
     "name": "stdout",
     "output_type": "stream",
     "text": [
      "deque([])\n"
     ]
    }
   ],
   "source": [
    "from collections import deque\n",
    "a=deque()\n",
    "print(a)"
   ]
  },
  {
   "cell_type": "markdown",
   "metadata": {},
   "source": [
    "## 4.2. Heapsort\n",
    "Als nächstes betrachten wir eine bekannte Min-Heap Implementierung in Python. Dazu nutzen wir das Modul `heapq`. Die wichtigsten Methoden davon sind:\n",
    "\n",
    "*   Konvertieren einer Liste `min_heap` zu einem Min-Heap: `heapq.heapify(min_heap)`\n",
    "*   Die Zahl 3 in den Min-Heap einfügen: `heapq.heappush(min_heap, 3)`\n",
    "*   Das kleinste Element aus dem Min-Heap lesen und entfernen: `next_min_elem = heapq.heappop(data)`\n",
    "*   Fragen ob der Min-Heap leer ist: `if min_heap:`\n",
    "\n",
    "Verwenden Sie das `heapq` Modul um die unsortierte Liste `data` mit Hilfe des Heapsort-Algorithmuses zu sortieren."
   ]
  },
  {
   "cell_type": "code",
   "execution_count": 6,
   "metadata": {},
   "outputs": [],
   "source": [
    "# data = np.random.randint(0, 20, 10)\n",
    "data = [1, 18,  5, 13,  4, 10, 19, 16, 10, 15]\n",
    "\n",
    "import heapq\n",
    "# ToDo"
   ]
  },
  {
   "cell_type": "markdown",
   "metadata": {
    "id": "hNrglPT6KkCm"
   },
   "source": [
    "## 5. Daten laden\n",
    "Zusätzlich zu diesem Notebook finden Sie in OLAT und auf dem Jupyterhub eine Datei `Ex_0.txt`. Wenn Sie mit dem Jupyterhub arbeiten, finden Sie die Datei unter:\n",
    "`/home/share/Ex_0.txt`\n",
    "Sie können die `loadtxt` Methode von `numpy` verwenden um die Datei zu lesen und als Array zu speichern. Dazu schreiben Sie einfach:\n",
    "\n",
    "`data = np.loadtxt(\"/home/share/Ex_0.txt\")`"
   ]
  },
  {
   "cell_type": "code",
   "execution_count": 7,
   "metadata": {
    "colab": {
     "base_uri": "https://localhost:8080/"
    },
    "id": "rEuXzm4jj_7s",
    "outputId": "adb6c6d5-8f19-4b1a-ee65-797901aadf08"
   },
   "outputs": [
    {
     "name": "stdout",
     "output_type": "stream",
     "text": [
      "data.shape = (1000, 3)\n",
      "Anzahl Zeilen = 1000\n",
      "Anzahl Spalten = 3\n"
     ]
    }
   ],
   "source": [
    "import os\n",
    "path = os.getcwd() + os.sep + \"Ex_0.csv\"\n",
    "data = np.loadtxt(path, delimiter=',')\n",
    "print(\"data.shape =\", data.shape)\n",
    "print(\"Anzahl Zeilen =\", data.shape[0])\n",
    "print(\"Anzahl Spalten =\", data.shape[1])"
   ]
  },
  {
   "cell_type": "markdown",
   "metadata": {
    "id": "dV9G8dWu6J0z"
   },
   "source": [
    "## 6. Visualisieren von Daten\n",
    "In diesem letzten Abschnitt möchten wir die zuvor gelesene Daten visualisieren. Hierfür verwenden wir das Package `matplotlib`. Die Datei besteht aus 1000 Zeilen und 3 Spalten. Jede Zeile korrespondiert zu genau einem Punkt. Die erste Spalte beschreibt den x-Wert $x_i$, die zweite Spalte den y-Wert $y_i$ mit $i \\in \\{0,1, \\ldots, 999\\}$. Die dritte Spalte enthält einen Vergleichswert $v_i$.\n",
    " <br>  <br>\n",
    "\n",
    "### 6.1 Einfache Scatter Plots\n",
    "In dieser Teilaufgabe verwenden wir lediglich die erste und zweite Spalte und plotten alle Punkte mit Hilfe der `scatter` Methode.\n"
   ]
  },
  {
   "cell_type": "code",
   "execution_count": 8,
   "metadata": {
    "colab": {
     "base_uri": "https://localhost:8080/",
     "height": 537
    },
    "id": "S_Aga4wD7OGA",
    "outputId": "9ec95fb2-9892-487e-e907-8494bbf8d893",
    "scrolled": false
   },
   "outputs": [
    {
     "ename": "ModuleNotFoundError",
     "evalue": "No module named 'matplotlib'",
     "output_type": "error",
     "traceback": [
      "\u001b[1;31m---------------------------------------------------------------------------\u001b[0m",
      "\u001b[1;31mModuleNotFoundError\u001b[0m                       Traceback (most recent call last)",
      "Cell \u001b[1;32mIn[8], line 1\u001b[0m\n\u001b[1;32m----> 1\u001b[0m \u001b[38;5;28;01mimport\u001b[39;00m \u001b[38;5;21;01mmatplotlib\u001b[39;00m\u001b[38;5;21;01m.\u001b[39;00m\u001b[38;5;21;01mpyplot\u001b[39;00m \u001b[38;5;28;01mas\u001b[39;00m \u001b[38;5;21;01mplt\u001b[39;00m   \u001b[38;5;66;03m# Laden des Packages und den Alias plt vergeben.\u001b[39;00m\n\u001b[0;32m      2\u001b[0m plt\u001b[38;5;241m.\u001b[39mrcParams[\u001b[38;5;124m'\u001b[39m\u001b[38;5;124mfigure.figsize\u001b[39m\u001b[38;5;124m'\u001b[39m] \u001b[38;5;241m=\u001b[39m [\u001b[38;5;241m16\u001b[39m, \u001b[38;5;241m9\u001b[39m]\n\u001b[0;32m      4\u001b[0m \u001b[38;5;66;03m# ToDo\u001b[39;00m\n",
      "\u001b[1;31mModuleNotFoundError\u001b[0m: No module named 'matplotlib'"
     ]
    }
   ],
   "source": [
    "import matplotlib.pyplot as plt   # Laden des Packages und den Alias plt vergeben.\n",
    "plt.rcParams['figure.figsize'] = [16, 9]\n",
    "\n",
    "# ToDoy"
   ]
  },
  {
   "cell_type": "markdown",
   "metadata": {
    "id": "M5eITokl7kLT"
   },
   "source": [
    "### 6.2 Scatter Plots mit Farben\n",
    "Jetzt kommt die dritte Spalte ins Spiel. Zeichnen Sie alle Punkte $(x_i, y_i)$ mit $y_i \\geq v_i$ orange und alle Punkte für die gilt $y_i < v_i$, zeichnen Sie blau. Sie können auch eigene Farben definieren und verwenden."
   ]
  },
  {
   "cell_type": "code",
   "execution_count": null,
   "metadata": {
    "colab": {
     "base_uri": "https://localhost:8080/",
     "height": 537
    },
    "id": "f_AL7AZX6to6",
    "outputId": "092ff329-6880-4a40-9913-6d225b55d2b5"
   },
   "outputs": [
    {
     "data": {
      "image/png": "[encoded data removed]",
      "text/plain": [
       "<Figure size 1152x648 with 1 Axes>"
      ]
     },
     "metadata": {
      "needs_background": "light"
     },
     "output_type": "display_data"
    }
   ],
   "source": [
    "# ToDo"
   ]
  },
  {
   "cell_type": "markdown",
   "metadata": {
    "id": "6B8ER9tl7e9C"
   },
   "source": [
    "### 6.3 Funktionen plotten\n",
    "Durch die unterschiedliche Färbung ergibt sich eine Trennung zwischen den orangenen und blauen Punkten. Diese Trennung soll nun mit Hilfe der `plot`-Methode als Funktion dargestellt werden.\n",
    "\n",
    "**Hinweis:** <br>\n",
    "Die Punkte sind in der Datei nicht sortiert."
   ]
  },
  {
   "cell_type": "code",
   "execution_count": null,
   "metadata": {
    "colab": {
     "base_uri": "https://localhost:8080/",
     "height": 537
    },
    "id": "t0FH7kFp6au6",
    "outputId": "c5def742-b8e9-4898-e15f-ab7327386315"
   },
   "outputs": [
    {
     "data": {
      "image/png": "[encoded data removed]",
      "text/plain": [
       "<Figure size 1152x648 with 1 Axes>"
      ]
     },
     "metadata": {
      "needs_background": "light"
     },
     "output_type": "display_data"
    }
   ],
   "source": [
    "# ToDo"
   ]
  },
  {
   "cell_type": "code",
   "execution_count": null,
   "metadata": {
    "id": "csbNqiXH65iw"
   },
   "outputs": [],
   "source": []
  },
  {
   "cell_type": "code",
   "execution_count": null,
   "metadata": {},
   "outputs": [],
   "source": []
  }
 ],
 "metadata": {
  "colab": {
   "collapsed_sections": [],
   "name": "0_Übungsblatt_(Einführung)_Lösungen.ipynb",
   "provenance": []
  },
  "kernelspec": {
   "display_name": "Python 3",
   "language": "python",
   "name": "python3"
  },
  "language_info": {
   "codemirror_mode": {
    "name": "ipython",
    "version": 3
   },
   "file_extension": ".py",
   "mimetype": "text/x-python",
   "name": "python",
   "nbconvert_exporter": "python",
   "pygments_lexer": "ipython3",
   "version": "3.12.5"
  }
 },
 "nbformat": 4,
 "nbformat_minor": 1
}
